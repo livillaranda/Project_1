{
 "cells": [
  {
   "cell_type": "code",
   "execution_count": null,
   "metadata": {},
   "outputs": [],
   "source": [
    "# Dependencies\n",
    "import pandas as pd\n",
    "import numpy as np\n",
    "import requests\n",
    "import json\n",
    "import matplotlib.pyplot as plt\n",
    "import seaborn as sns\n"
   ]
  },
  {
   "cell_type": "code",
   "execution_count": null,
   "metadata": {},
   "outputs": [],
   "source": [
    "# Locate CSV files\n",
    "crime18 = \"../crime_2018_cleaned.csv\"\n",
    "\n",
    "# Read Files\n",
    "crime_data = pd.read_csv(crime18)\n"
   ]
  },
  {
   "cell_type": "code",
   "execution_count": null,
   "metadata": {},
   "outputs": [],
   "source": [
    "# View 2017/2018 file\n",
    "crime_data"
   ]
  },
  {
   "cell_type": "code",
   "execution_count": null,
   "metadata": {},
   "outputs": [],
   "source": [
    "# Rename Columns\n",
    "crime_data.columns = [\"State\", \"City\", \"Year\", \"Population\", \"Violent Crime\", \"Murder\", \"Rape\", \"Robbery\", \"Assault\", \"Property\", \"Burglary\",\n",
    "                \"Larceny\", \"MV Theft\", \"Arson\"]"
   ]
  },
  {
   "cell_type": "code",
   "execution_count": null,
   "metadata": {},
   "outputs": [],
   "source": [
    "#Drop commas from all values\n",
    "crime_data = crime_data.replace(',','', regex=True)"
   ]
  },
  {
   "cell_type": "code",
   "execution_count": null,
   "metadata": {},
   "outputs": [],
   "source": [
    "# Specify columns to analyze\n",
    "cols = [\"Year\", \"Population\", \"Violent Crime\", \"Murder\", \"Rape\", \"Robbery\", \"Assault\", \"Property\", \"Burglary\", \"Larceny\", \"MV Theft\", \"Arson\"]\n",
    "crime_data"
   ]
  },
  {
   "cell_type": "code",
   "execution_count": null,
   "metadata": {},
   "outputs": [],
   "source": [
    "# Change to type to (int)\n",
    "crime_data[cols] = crime_data[cols].astype(int)\n",
    "crime_data.fillna(0)\n",
    "crime_data"
   ]
  },
  {
   "cell_type": "code",
   "execution_count": null,
   "metadata": {},
   "outputs": [],
   "source": [
    "# Create copy to not change original df\n",
    "nat_stats = crime_data.copy()\n",
    "\n",
    "# Summation for national statistics\n",
    "year_national = nat_stats.groupby(\"Year\")[cols].sum()\n",
    "del year_national[\"Year\"]\n",
    "\n",
    "national = pd.DataFrame(year_national)"
   ]
  },
  {
   "cell_type": "code",
   "execution_count": null,
   "metadata": {},
   "outputs": [],
   "source": [
    "national"
   ]
  },
  {
   "cell_type": "code",
   "execution_count": null,
   "metadata": {},
   "outputs": [],
   "source": [
    "national.reset_index()"
   ]
  },
  {
   "cell_type": "code",
   "execution_count": null,
   "metadata": {},
   "outputs": [],
   "source": [
    "# Find Murder Capital\n",
    "m_cap = nat_stats.loc[nat_stats.groupby(\"Year\")[\"Murder\"].max()]\n",
    "m_cap"
   ]
  },
  {
   "cell_type": "code",
   "execution_count": null,
   "metadata": {},
   "outputs": [],
   "source": [
    "year_national[\"Total\"] = \"\"\n",
    "year_national[\"Total\"] = year_national[cols3].sum(axis=1)\n",
    "year_national = year_national.T\n",
    "year_national = year_national.drop(['Population', 'Total'])\n",
    "year_national.reset_index()\n",
    "year_national.columns = ['2017', '2018']\n",
    "year_national\n",
    "\n",
    "import numpy as np\n",
    "import matplotlib.pyplot as plt\n",
    "# data to plot\n",
    "n_groups = 10\n",
    "crimes = [\"Violent Crime\", \"Murder\", \"Rape\", \"Robbery\", \"Assault\", \"Property\", \"Burglary\", \"Larceny\", \"MV Theft\", \"Arson\"]\n",
    "crimes_2017 = year_national['2017']\n",
    "crimes_2018 = year_national['2018']\n",
    "# create plot\n",
    "fig, ax = plt.subplots()\n",
    "index = np.arange(n_groups)\n",
    "bar_width = 0.35\n",
    "opacity = 0.8\n",
    "rects1 = plt.bar(index, crimes_2017, bar_width,\n",
    "alpha=opacity,\n",
    "color='b',\n",
    "label='2017')\n",
    "rects2 = plt.bar(index + bar_width, crimes_2018, bar_width,\n",
    "alpha=opacity,\n",
    "color='g',\n",
    "label='2018')\n",
    "plt.xlabel('Crime')\n",
    "plt.ylabel('Count')\n",
    "plt.title('Crimes by Year')\n",
    "plt.xticks(index + bar_width, crimes, rotation=45)\n",
    "plt.legend()\n",
    "plt.tight_layout()\n",
    "plt.show()"
   ]
  },
  {
   "cell_type": "code",
   "execution_count": null,
   "metadata": {},
   "outputs": [],
   "source": [
    "# Specify columns to analyze\n",
    "cols2 = [\"Population\", \"Violent Crime\", \"Murder\", \"Rape\", \"Robbery\", \"Assault\", \"Property\", \"Burglary\", \"Larceny\", \"MV Theft\", \"Arson\"]\n",
    "\n",
    "# Create copy to not change original df\n",
    "state_stats = crime_data.copy()\n",
    "\n",
    "# Summation for state statistics\n",
    "year_state = state_stats.groupby([\"State\", \"Year\"]).sum()\n",
    "#del year_state[\"Year\"]\n",
    "\n",
    "state = pd.DataFrame(year_state)"
   ]
  },
  {
   "cell_type": "code",
   "execution_count": null,
   "metadata": {},
   "outputs": [],
   "source": [
    "state"
   ]
  },
  {
   "cell_type": "code",
   "execution_count": null,
   "metadata": {},
   "outputs": [],
   "source": [
    "# Use the CSV downloaded df to start basis of spliting df\n",
    "state_city = crime_data.copy()\n"
   ]
  },
  {
   "cell_type": "code",
   "execution_count": null,
   "metadata": {},
   "outputs": [],
   "source": [
    "# Group by year, view state by state\n",
    "shuffle = state_city.sort_values(by=[\"Year\", \"State\"])\n",
    "shuffle"
   ]
  },
  {
   "cell_type": "code",
   "execution_count": null,
   "metadata": {},
   "outputs": [],
   "source": [
    "# g = sns.FacetGrid(shuffle, col=\"Year\", row=\"State\")\n",
    "# g.map(sns.scatterplot, \"Population\", \"Murder\")"
   ]
  },
  {
   "cell_type": "code",
   "execution_count": null,
   "metadata": {},
   "outputs": [],
   "source": [
    "g = sns.FacetGrid(shuffle, col=\"Year\", row=\"State\")\n",
    "g.map(sns.scatterplot, \"Population\", \"Violent Crime\")"
   ]
  },
  {
   "cell_type": "code",
   "execution_count": null,
   "metadata": {},
   "outputs": [],
   "source": [
    "group17_pop = grouped17.copy()\n",
    "group17_pop = group17_pop.sort_values(by=\"Population\", ascending=False)\n",
    "group17_pop"
   ]
  },
  {
   "cell_type": "code",
   "execution_count": null,
   "metadata": {},
   "outputs": [],
   "source": [
    "# Split df by year into 2 new dfs\n",
    "split_17 = shuffle[shuffle[\"Year\"] <= 2017]\n",
    "\n",
    "split_18 = shuffle[shuffle[\"Year\"] >= 2018]\n",
    "\n",
    "# Reset index on both dfs; delete columns with old index numbers\n",
    "split_17 = split_17.reset_index()\n",
    "del split_17[\"index\"]\n",
    "\n",
    "split_18 = split_18.reset_index()\n",
    "del split_18[\"index\"]"
   ]
  },
  {
   "cell_type": "code",
   "execution_count": null,
   "metadata": {},
   "outputs": [],
   "source": [
    "# Export dfs to ensure split is correct\n",
    "split_17.to_csv(\"2017_Split_final.csv\")\n",
    "split_18.to_csv(\"2018_Split_final.csv\")"
   ]
  },
  {
   "cell_type": "code",
   "execution_count": null,
   "metadata": {},
   "outputs": [],
   "source": [
    "### 2018 DATA SPLIT\n",
    "# Delete year from df; group by State to calculate sum of data\n",
    "del split_17[\"Year\"]\n",
    "grouped17 = split_17.groupby(\"State\")[cols2].sum()\n",
    "grouped17"
   ]
  },
  {
   "cell_type": "code",
   "execution_count": null,
   "metadata": {},
   "outputs": [],
   "source": [
    "# 2017 data population vs violent crime\n",
    "\n",
    "grouped17"
   ]
  },
  {
   "cell_type": "code",
   "execution_count": null,
   "metadata": {},
   "outputs": [],
   "source": [
    "# Specify new variable for calculation\n",
    "cols3 = [\"Violent Crime\", \"Murder\", \"Rape\", \"Robbery\", \"Assault\", \"Property\", \"Burglary\", \"Larceny\", \"MV Theft\", \"Arson\"]"
   ]
  },
  {
   "cell_type": "code",
   "execution_count": null,
   "metadata": {},
   "outputs": [],
   "source": [
    "year_national[\"Total\"] = \"\"\n",
    "year_national[\"Total\"] = year_national[cols3].sum(axis=1)\n",
    "year_national"
   ]
  },
  {
   "cell_type": "code",
   "execution_count": null,
   "metadata": {},
   "outputs": [],
   "source": [
    "# Locate CSV files\n",
    "crime_all_years = \"../Grouped.csv\"\n",
    "\n",
    "# Read Files\n",
    "all_years = pd.read_csv(crime_all_years)"
   ]
  },
  {
   "cell_type": "code",
   "execution_count": null,
   "metadata": {},
   "outputs": [],
   "source": [
    "all_years"
   ]
  },
  {
   "cell_type": "code",
   "execution_count": null,
   "metadata": {},
   "outputs": [],
   "source": [
    "# drop the decimals \n",
    "\n",
    "all_years[cols] = all_years[cols].astype(float)\n",
    "pd.options.display.float_format = '{:.0f}'.format"
   ]
  },
  {
   "cell_type": "code",
   "execution_count": null,
   "metadata": {},
   "outputs": [],
   "source": [
    "all_years"
   ]
  },
  {
   "cell_type": "code",
   "execution_count": null,
   "metadata": {},
   "outputs": [],
   "source": []
  },
  {
   "cell_type": "code",
   "execution_count": null,
   "metadata": {},
   "outputs": [],
   "source": []
  }
 ],
 "metadata": {
  "kernelspec": {
   "display_name": "Python 3",
   "language": "python",
   "name": "python3"
  },
  "language_info": {
   "codemirror_mode": {
    "name": "ipython",
    "version": 3
   },
   "file_extension": ".py",
   "mimetype": "text/x-python",
   "name": "python",
   "nbconvert_exporter": "python",
   "pygments_lexer": "ipython3",
   "version": "3.7.6"
  }
 },
 "nbformat": 4,
 "nbformat_minor": 4
}
